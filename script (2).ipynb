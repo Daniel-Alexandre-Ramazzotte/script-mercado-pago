{
 "cells": [
  {
   "cell_type": "code",
   "execution_count": null,
   "id": "15257c63-0907-43c1-8cce-d164d7b851a1",
   "metadata": {},
   "outputs": [],
   "source": [
    "import pdfplumber\n",
    "import pandas as pd\n",
    "import re"
   ]
  },
  {
   "cell_type": "code",
   "execution_count": null,
   "id": "2aff084b-87bd-4af1-81ef-b933d0ccdf96",
   "metadata": {},
   "outputs": [],
   "source": [
    "\n",
    "pdf_path = \"mp-wallet_20250310202148_2ca2.pdf\"\n",
    "\n",
    "# Lista para armazenar as linhas extraídas\n",
    "linhas_extraidas = []\n",
    "\n",
    "# Abrir o PDF e extrair o texto linha por linha\n",
    "with pdfplumber.open(pdf_path) as pdf:\n",
    "    for page in pdf.pages:\n",
    "        texto = page.extract_text()\n",
    "        if texto:\n",
    "            linhas_extraidas.extend(texto.split(\"\\n\"))\n",
    "\n",
    "# Regex para detectar início de uma transação (data XX-XX-XXXX)\n",
    "regex_data = re.compile(r\"^\\d{2}-\\d{2}-\\d{4}\")\n",
    "regex_id_operacao = re.compile(r\"\\b\\d{9,}\\b\")  # Detecta IDs de operação (9+ dígitos)\n",
    "regex_valor = re.compile(r\"R\\$[ ]?[\\-\\d\\.\\,]+\")  # Ajustado para capturar valores acima de 1000 corretamente\n",
    "\n",
    "# Lista para armazenar transações reconstruídas corretamente\n",
    "transacoes = []\n",
    "linhas_tratadas = linhas_extraidas\n",
    "\n",
    "for i, linha in enumerate(linhas_extraidas):\n",
    "    linha = linha.strip()\n",
    "    \n",
    "    if regex_data.match(linha):\n",
    "        if linha.count(\" \") < 6:\n",
    "            linha = linha.split(\" \", 1)[0] + \" \" + linhas_tratadas[i-1] + \" \" + linhas_tratadas[i+1] + \" \" + linha.split(\" \", 1)[1]\n",
    "            transacoes.append(linha)\n",
    "            linhas_tratadas[i] = linha\n",
    "            linhas_tratadas[i-1], linhas_tratadas[i+1] = \"a\", \"a\"\n",
    "        else:\n",
    "            transacoes.append(linha)\n",
    "\n",
    "# Regex ajustada para capturar corretamente transações formatadas\n",
    "padrao = re.compile(r\"(\\d{2}-\\d{2}-\\d{4})\\s+(.+?)\\s+(\\d{9,})\\s+R\\$[ ]?([\\-\\d\\.\\,]+)\\s+R\\$[ ]?([\\-\\d\\.\\,]+)\")\n",
    "\n",
    "dados_formatados = []\n",
    "for transacao in transacoes:\n",
    "    match = padrao.search(transacao)\n",
    "    print(\"match: \", match)\n",
    "    print(\"transacao: \", transacao)\n",
    "    if match:\n",
    "        data = match.group(1)\n",
    "        descricao = match.group(2).strip()\n",
    "        id_operacao = match.group(3)\n",
    "        valor = match.group(4).replace(\".\", \"\").replace(\",\", \".\").strip()\n",
    "        saldo = match.group(5).replace(\".\", \"\").replace(\",\", \".\").strip()\n",
    "        dados_formatados.append([data, descricao, id_operacao, valor, saldo])\n",
    "\n",
    "df_final = pd.DataFrame(dados_formatados, columns=[\"Data\", \"Descrição\", \"ID_Operação\", \"Valor\", \"Saldo\"])\n",
    "\n",
    "df_final[\"Valor\"] = pd.to_numeric(df_final[\"Valor\"], errors=\"coerce\")\n",
    "df_final[\"Saldo\"] = pd.to_numeric(df_final[\"Saldo\"], errors=\"coerce\")\n",
    "\n",
    "df_final.to_csv(\"extrato_bancario.csv\", index=False, encoding=\"utf-8\")\n"
   ]
  },
  {
   "cell_type": "code",
   "execution_count": null,
   "id": "3ab1f620-8341-4742-a391-1d0714362aa9",
   "metadata": {},
   "outputs": [],
   "source": []
  },
  {
   "cell_type": "code",
   "execution_count": null,
   "id": "c92547e7-a822-47bc-ad03-cc6dffa6abd1",
   "metadata": {},
   "outputs": [],
   "source": []
  }
 ],
 "metadata": {
  "kernelspec": {
   "display_name": "Python 3 (ipykernel)",
   "language": "python",
   "name": "python3"
  },
  "language_info": {
   "codemirror_mode": {
    "name": "ipython",
    "version": 3
   },
   "file_extension": ".py",
   "mimetype": "text/x-python",
   "name": "python",
   "nbconvert_exporter": "python",
   "pygments_lexer": "ipython3",
   "version": "3.12.7"
  }
 },
 "nbformat": 4,
 "nbformat_minor": 5
}
